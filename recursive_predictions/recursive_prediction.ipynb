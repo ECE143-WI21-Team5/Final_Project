{
 "cells": [
  {
   "cell_type": "code",
   "execution_count": 4,
   "id": "numeric-election",
   "metadata": {},
   "outputs": [
    {
     "name": "stdout",
     "output_type": "stream",
     "text": [
      "https://aqs.epa.gov/aqsweb/airdata/daily_44201_2010.zip\n",
      "https://aqs.epa.gov/aqsweb/airdata/daily_44201_2011.zip\n",
      "https://aqs.epa.gov/aqsweb/airdata/daily_44201_2012.zip\n",
      "https://aqs.epa.gov/aqsweb/airdata/daily_44201_2013.zip\n",
      "https://aqs.epa.gov/aqsweb/airdata/daily_44201_2014.zip\n",
      "https://aqs.epa.gov/aqsweb/airdata/daily_44201_2015.zip\n",
      "https://aqs.epa.gov/aqsweb/airdata/daily_44201_2016.zip\n",
      "https://aqs.epa.gov/aqsweb/airdata/daily_44201_2017.zip\n",
      "https://aqs.epa.gov/aqsweb/airdata/daily_44201_2018.zip\n",
      "https://aqs.epa.gov/aqsweb/airdata/daily_44201_2019.zip\n"
     ]
    }
   ],
   "source": [
    "import zipfile\n",
    "import urllib.request\n",
    "import os\n",
    "\n",
    "year = 2010\n",
    "data_path = '\\\\Users\\\\jesus\\\\Desktop\\\\ECE_143\\\\Final_Project\\\\recursive_predictions\\\\ozone_data\\\\'\n",
    "for i in range(10):\n",
    "    pass\n",
    "    url = 'https://aqs.epa.gov/aqsweb/airdata/daily_44201_'+str(year)+'.zip'\n",
    "    print(url)\n",
    "    urllib.request.urlretrieve(url, data_path+'ozone_data'+str(year)+'.zip')\n",
    "    with zipfile.ZipFile(data_path+'ozone_data'+str(year)+'.zip', 'r') as zip_ref:\n",
    "        zip_ref.extractall(data_path+str(year)+'_data')\n",
    "    \n",
    "    os.remove(data_path+'ozone_data'+str(year)+'.zip') \n",
    "\n",
    "    year +=1"
   ]
  },
  {
   "cell_type": "code",
   "execution_count": 5,
   "id": "particular-upgrade",
   "metadata": {},
   "outputs": [],
   "source": [
    "import csv\n",
    "def convine_data_files():\n",
    "    data_path = '\\\\Users\\\\jesus\\\\Desktop\\\\ECE_143\\\\Final_Project\\\\recursive_predictions\\\\ozone_data\\\\'\n",
    "    year = 2010\n",
    "    lines = []\n",
    "    for i in range(10):\n",
    "        with open(data_path+str(year)+'_data'+'\\\\daily_44201_'+str(year)+'.csv', newline='') as csvfile:\n",
    "            reader = csv.reader(csvfile)\n",
    "            for line in list(reader):\n",
    "                lines.append(line)\n",
    "        year += 1\n",
    "    return lines"
   ]
  },
  {
   "cell_type": "code",
   "execution_count": 6,
   "id": "treated-bridge",
   "metadata": {},
   "outputs": [],
   "source": [
    "ozone_data = convine_data_files()"
   ]
  },
  {
   "cell_type": "code",
   "execution_count": 7,
   "id": "expected-alarm",
   "metadata": {},
   "outputs": [],
   "source": [
    "class city_regression:\n",
    "    def __init__(self, data, city_name):\n",
    "        self.city_name = city_name\n",
    "        self.data = []\n",
    "        for ind_measurment in data:\n",
    "            if(city_name in ind_measurment):\n",
    "                self.data.append(ind_measurment)\n",
    "    def __str__(self):\n",
    "        return str(self.city_name)"
   ]
  },
  {
   "cell_type": "code",
   "execution_count": 8,
   "id": "lightweight-address",
   "metadata": {},
   "outputs": [
    {
     "name": "stdout",
     "output_type": "stream",
     "text": [
      "Baldwin\n"
     ]
    }
   ],
   "source": [
    "aCity = city_regression(ozone_data,\"Baldwin\")\n",
    "print(aCity)"
   ]
  },
  {
   "cell_type": "code",
   "execution_count": 13,
   "id": "aerial-claim",
   "metadata": {},
   "outputs": [
    {
     "name": "stdout",
     "output_type": "stream",
     "text": [
      "['01', '003', '0010', '44201', '1', '30.497478', '-87.880258', 'NAD83', 'Ozone', '8-HR RUN AVG BEGIN HOUR', 'Ozone 8-hour 2015', '2010-03-01', 'Parts per million', 'None', '10', '59.0', '0.0435', '0.046', '14', '43', '', ' - ', 'FAIRHOPE, Alabama', 'FAIRHOPE HIGH SCHOOL, 1 PIRATE DRIVE, FAIRHOPE,  ALABAMA', 'Alabama', 'Baldwin', 'Fairhope', 'Daphne-Fairhope-Foley, AL', '2018-07-18']\n"
     ]
    }
   ],
   "source": [
    "print(aCity.data[0])"
   ]
  },
  {
   "cell_type": "code",
   "execution_count": 28,
   "id": "quantitative-litigation",
   "metadata": {},
   "outputs": [
    {
     "name": "stdout",
     "output_type": "stream",
     "text": [
      "2010-03-02\n"
     ]
    }
   ],
   "source": [
    "print(aCity.data[1][11])"
   ]
  },
  {
   "cell_type": "code",
   "execution_count": 29,
   "id": "increased-wells",
   "metadata": {},
   "outputs": [],
   "source": [
    "from datetime import datetime\n",
    "date_object = datetime.strptime(aCity.data[0][11], \"%Y-%m-%d\")"
   ]
  },
  {
   "cell_type": "code",
   "execution_count": 30,
   "id": "loaded-landscape",
   "metadata": {},
   "outputs": [
    {
     "name": "stdout",
     "output_type": "stream",
     "text": [
      "2010-03-01 00:00:00\n"
     ]
    }
   ],
   "source": [
    "print(date_object)"
   ]
  },
  {
   "cell_type": "code",
   "execution_count": null,
   "id": "enclosed-flashing",
   "metadata": {},
   "outputs": [],
   "source": []
  }
 ],
 "metadata": {
  "kernelspec": {
   "display_name": "Python 3",
   "language": "python",
   "name": "python3"
  },
  "language_info": {
   "codemirror_mode": {
    "name": "ipython",
    "version": 3
   },
   "file_extension": ".py",
   "mimetype": "text/x-python",
   "name": "python",
   "nbconvert_exporter": "python",
   "pygments_lexer": "ipython3",
   "version": "3.9.1"
  }
 },
 "nbformat": 4,
 "nbformat_minor": 5
}
